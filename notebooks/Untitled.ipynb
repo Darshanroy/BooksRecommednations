{
 "cells": [
  {
   "cell_type": "code",
   "execution_count": 2,
   "id": "680b6835",
   "metadata": {},
   "outputs": [],
   "source": [
    "import  pandas as pd\n",
    "import numpy as np"
   ]
  },
  {
   "cell_type": "code",
   "execution_count": 3,
   "id": "1a3a4a8a",
   "metadata": {},
   "outputs": [],
   "source": [
    "df = pd.read_csv('books_data.csv')"
   ]
  },
  {
   "cell_type": "code",
   "execution_count": 4,
   "id": "fc5f244b",
   "metadata": {
    "scrolled": true
   },
   "outputs": [
    {
     "name": "stdout",
     "output_type": "stream",
     "text": [
      "<class 'pandas.core.frame.DataFrame'>\n",
      "RangeIndex: 212404 entries, 0 to 212403\n",
      "Data columns (total 10 columns):\n",
      " #   Column         Non-Null Count   Dtype  \n",
      "---  ------         --------------   -----  \n",
      " 0   Title          212403 non-null  object \n",
      " 1   description    143962 non-null  object \n",
      " 2   authors        180991 non-null  object \n",
      " 3   image          160329 non-null  object \n",
      " 4   previewLink    188568 non-null  object \n",
      " 5   publisher      136518 non-null  object \n",
      " 6   publishedDate  187099 non-null  object \n",
      " 7   infoLink       188568 non-null  object \n",
      " 8   categories     171205 non-null  object \n",
      " 9   ratingsCount   49752 non-null   float64\n",
      "dtypes: float64(1), object(9)\n",
      "memory usage: 16.2+ MB\n"
     ]
    }
   ],
   "source": [
    "df.info()"
   ]
  },
  {
   "cell_type": "code",
   "execution_count": 5,
   "id": "7025a9e3",
   "metadata": {},
   "outputs": [
    {
     "data": {
      "text/plain": [
       "Index(['Title', 'description', 'authors', 'image', 'previewLink', 'publisher',\n",
       "       'publishedDate', 'infoLink', 'categories', 'ratingsCount'],\n",
       "      dtype='object')"
      ]
     },
     "execution_count": 5,
     "metadata": {},
     "output_type": "execute_result"
    }
   ],
   "source": [
    "df.columns"
   ]
  },
  {
   "cell_type": "code",
   "execution_count": 10,
   "id": "8665021b",
   "metadata": {},
   "outputs": [],
   "source": [
    "df = df[['Title','categories']]"
   ]
  },
  {
   "cell_type": "code",
   "execution_count": 11,
   "id": "00a8d51c",
   "metadata": {},
   "outputs": [
    {
     "data": {
      "text/plain": [
       "Title             1\n",
       "categories    41199\n",
       "dtype: int64"
      ]
     },
     "execution_count": 11,
     "metadata": {},
     "output_type": "execute_result"
    }
   ],
   "source": [
    "df.isnull().sum()"
   ]
  },
  {
   "cell_type": "code",
   "execution_count": 12,
   "id": "d5a10ce1",
   "metadata": {},
   "outputs": [
    {
     "data": {
      "text/plain": [
       "Title         212403\n",
       "categories     10883\n",
       "dtype: int64"
      ]
     },
     "execution_count": 12,
     "metadata": {},
     "output_type": "execute_result"
    }
   ],
   "source": [
    "df.nunique()"
   ]
  },
  {
   "cell_type": "code",
   "execution_count": 13,
   "id": "97dbbe38",
   "metadata": {},
   "outputs": [],
   "source": [
    "df2 = df.copy()"
   ]
  },
  {
   "cell_type": "code",
   "execution_count": 46,
   "id": "7cec6aef",
   "metadata": {},
   "outputs": [],
   "source": [
    "df2['categories']=df2['categories'].str.split('[').str[1].str[1:-2]"
   ]
  },
  {
   "cell_type": "code",
   "execution_count": 47,
   "id": "949fa718",
   "metadata": {
    "scrolled": true
   },
   "outputs": [
    {
     "data": {
      "text/plain": [
       "41199"
      ]
     },
     "execution_count": 47,
     "metadata": {},
     "output_type": "execute_result"
    }
   ],
   "source": [
    "df2['categories'].isnull().sum()"
   ]
  },
  {
   "cell_type": "code",
   "execution_count": 54,
   "id": "b902a031",
   "metadata": {},
   "outputs": [],
   "source": [
    "geners=list(df2['categories'].unique())"
   ]
  },
  {
   "cell_type": "code",
   "execution_count": 59,
   "id": "28a608b4",
   "metadata": {},
   "outputs": [],
   "source": [
    "empty_index =list(df2[df2['categories'].isnull()].index)"
   ]
  },
  {
   "cell_type": "code",
   "execution_count": 61,
   "id": "1c190ce3",
   "metadata": {},
   "outputs": [],
   "source": [
    "df3=df2[df2['categories'].isnull()]"
   ]
  },
  {
   "cell_type": "code",
   "execution_count": 62,
   "id": "6f79cf39",
   "metadata": {},
   "outputs": [
    {
     "data": {
      "text/html": [
       "<div>\n",
       "<style scoped>\n",
       "    .dataframe tbody tr th:only-of-type {\n",
       "        vertical-align: middle;\n",
       "    }\n",
       "\n",
       "    .dataframe tbody tr th {\n",
       "        vertical-align: top;\n",
       "    }\n",
       "\n",
       "    .dataframe thead th {\n",
       "        text-align: right;\n",
       "    }\n",
       "</style>\n",
       "<table border=\"1\" class=\"dataframe\">\n",
       "  <thead>\n",
       "    <tr style=\"text-align: right;\">\n",
       "      <th></th>\n",
       "      <th>Title</th>\n",
       "      <th>categories</th>\n",
       "    </tr>\n",
       "  </thead>\n",
       "  <tbody>\n",
       "    <tr>\n",
       "      <th>4</th>\n",
       "      <td>Nation Dance: Religion, Identity and Cultural ...</td>\n",
       "      <td>NaN</td>\n",
       "    </tr>\n",
       "    <tr>\n",
       "      <th>6</th>\n",
       "      <td>The Overbury affair (Avon)</td>\n",
       "      <td>NaN</td>\n",
       "    </tr>\n",
       "    <tr>\n",
       "      <th>7</th>\n",
       "      <td>A Walk in the Woods: a Play in Two Acts</td>\n",
       "      <td>NaN</td>\n",
       "    </tr>\n",
       "    <tr>\n",
       "      <th>27</th>\n",
       "      <td>Thomas Jefferson, (American statesmen)</td>\n",
       "      <td>NaN</td>\n",
       "    </tr>\n",
       "    <tr>\n",
       "      <th>29</th>\n",
       "      <td>Dealing With Disappointment: Helping Kids Cope...</td>\n",
       "      <td>NaN</td>\n",
       "    </tr>\n",
       "    <tr>\n",
       "      <th>...</th>\n",
       "      <td>...</td>\n",
       "      <td>...</td>\n",
       "    </tr>\n",
       "    <tr>\n",
       "      <th>212393</th>\n",
       "      <td>The Genesis Protocol</td>\n",
       "      <td>NaN</td>\n",
       "    </tr>\n",
       "    <tr>\n",
       "      <th>212395</th>\n",
       "      <td>Essential Guide to Hawaii, the Big Island</td>\n",
       "      <td>NaN</td>\n",
       "    </tr>\n",
       "    <tr>\n",
       "      <th>212396</th>\n",
       "      <td>Sofia</td>\n",
       "      <td>NaN</td>\n",
       "    </tr>\n",
       "    <tr>\n",
       "      <th>212401</th>\n",
       "      <td>Mamaw</td>\n",
       "      <td>NaN</td>\n",
       "    </tr>\n",
       "    <tr>\n",
       "      <th>212403</th>\n",
       "      <td>Student's Solutions Manual for Johnson/Mowry's...</td>\n",
       "      <td>NaN</td>\n",
       "    </tr>\n",
       "  </tbody>\n",
       "</table>\n",
       "<p>41199 rows × 2 columns</p>\n",
       "</div>"
      ],
      "text/plain": [
       "                                                    Title categories\n",
       "4       Nation Dance: Religion, Identity and Cultural ...        NaN\n",
       "6                              The Overbury affair (Avon)        NaN\n",
       "7                 A Walk in the Woods: a Play in Two Acts        NaN\n",
       "27                 Thomas Jefferson, (American statesmen)        NaN\n",
       "29      Dealing With Disappointment: Helping Kids Cope...        NaN\n",
       "...                                                   ...        ...\n",
       "212393                               The Genesis Protocol        NaN\n",
       "212395          Essential Guide to Hawaii, the Big Island        NaN\n",
       "212396                                              Sofia        NaN\n",
       "212401                                              Mamaw        NaN\n",
       "212403  Student's Solutions Manual for Johnson/Mowry's...        NaN\n",
       "\n",
       "[41199 rows x 2 columns]"
      ]
     },
     "execution_count": 62,
     "metadata": {},
     "output_type": "execute_result"
    }
   ],
   "source": [
    "df3"
   ]
  },
  {
   "cell_type": "code",
   "execution_count": null,
   "id": "ea8b9bc0",
   "metadata": {},
   "outputs": [
    {
     "name": "stderr",
     "output_type": "stream",
     "text": [
      "No model was supplied, defaulted to roberta-large-mnli and revision 130fb28 (https://huggingface.co/roberta-large-mnli).\n",
      "Using a pipeline without specifying a model name and revision in production is not recommended.\n",
      "All PyTorch model weights were used when initializing TFRobertaForSequenceClassification.\n",
      "\n",
      "All the weights of TFRobertaForSequenceClassification were initialized from the PyTorch model.\n",
      "If your task is similar to the task the model of the checkpoint was trained on, you can already use TFRobertaForSequenceClassification for predictions without further training.\n"
     ]
    }
   ],
   "source": [
    "import pandas as pd\n",
    "from transformers import pipeline\n",
    "\n",
    "# Load the zero-shot classification pipeline\n",
    "zero_shot_classifier = pipeline(\"zero-shot-classification\")\n",
    "\n",
    "# Sample DataFrame with text data\n",
    "df = df3\n",
    "\n",
    "# Define candidate labels\n",
    "candidate_labels = geners\n",
    "\n",
    "# Perform zero-shot classification for each row in the DataFrame\n",
    "results_list = []\n",
    "list_result=[]\n",
    "for index, row in df.iterrows():\n",
    "    input_text = row['Title']\n",
    "    results = zero_shot_classifier(input_text, candidate_labels)\n",
    "    results_list.append(results)\n",
    "\n",
    "# Process and print the results\n",
    "for i, results in enumerate(results_list, 1):\n",
    "    input_text = df.loc[i - 1, 'Title']\n",
    "    print(f\"Input Text {i}: {input_text}\")\n",
    "    \n",
    "    \n",
    "    for result in results:\n",
    "        label = result[\"label\"]\n",
    "        list_result.append(result['label'])\n",
    "        score = result[\"score\"]\n",
    "        print(f\"Label: {label}, Score: {score}\")\n",
    "    \n",
    "    print()\n"
   ]
  },
  {
   "cell_type": "code",
   "execution_count": null,
   "id": "51ec78b4",
   "metadata": {},
   "outputs": [],
   "source": []
  },
  {
   "cell_type": "code",
   "execution_count": null,
   "id": "a953d521",
   "metadata": {},
   "outputs": [],
   "source": []
  }
 ],
 "metadata": {
  "kernelspec": {
   "display_name": "Python 3 (ipykernel)",
   "language": "python",
   "name": "python3"
  },
  "language_info": {
   "codemirror_mode": {
    "name": "ipython",
    "version": 3
   },
   "file_extension": ".py",
   "mimetype": "text/x-python",
   "name": "python",
   "nbconvert_exporter": "python",
   "pygments_lexer": "ipython3",
   "version": "3.11.4"
  }
 },
 "nbformat": 4,
 "nbformat_minor": 5
}
